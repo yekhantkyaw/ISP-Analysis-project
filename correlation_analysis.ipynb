{
 "cells": [
  {
   "cell_type": "markdown",
   "id": "33765045",
   "metadata": {},
   "source": [
    "# 📊 ISP Correlation Analysis\n",
    "\n",
    "This notebook explores relationships between customer behavior, network quality, support issues, and churn."
   ]
  },
  {
   "cell_type": "code",
   "execution_count": null,
   "id": "2c1e45fa",
   "metadata": {},
   "outputs": [],
   "source": [
    "import pandas as pd\n",
    "import seaborn as sns\n",
    "import matplotlib.pyplot as plt\n",
    "\n",
    "# Load datasets\n",
    "customers = pd.read_csv('customers.csv')\n",
    "network = pd.read_csv('network_performance.csv')\n",
    "support = pd.read_csv('support_logs.csv')\n",
    "billing = pd.read_csv('billing.csv')\n",
    "\n",
    "# Merge\n",
    "df = customers.merge(network, on='customer_id')\\\n",
    "         .merge(support, on='customer_id')\\\n",
    "         .merge(billing, on='customer_id')\n",
    "\n",
    "# Encode churn\n",
    "df['churn_binary'] = df['churn'].map({'Yes': 1, 'No': 0})"
   ]
  },
  {
   "cell_type": "markdown",
   "id": "79966bb3",
   "metadata": {},
   "source": [
    "## 🔍 Correlation Heatmap"
   ]
  },
  {
   "cell_type": "code",
   "execution_count": null,
   "id": "a4e3a309",
   "metadata": {},
   "outputs": [],
   "source": [
    "# Compute correlation\n",
    "corr = df[['age', 'download_speed_mbps', 'upload_speed_mbps', 'latency_ms',\n",
    "           'uptime_percent', 'ticket_count', 'avg_resolution_time_hrs',\n",
    "           'monthly_cost_usd', 'late_payments', 'churn_binary']].corr()\n",
    "\n",
    "# Plot\n",
    "plt.figure(figsize=(12,8))\n",
    "sns.heatmap(corr, annot=True, cmap='coolwarm', fmt='.2f', square=True)\n",
    "plt.title('Correlation Matrix - ISP Data')\n",
    "plt.tight_layout()\n",
    "plt.show()"
   ]
  },
  {
   "cell_type": "markdown",
   "id": "5ebaa42d",
   "metadata": {},
   "source": [
    "### 📌 Insights:\n",
    "- Higher latency and more support tickets correlate with churn.\n",
    "- Customers on cheaper plans churn more.\n",
    "- Poor speed affects satisfaction."
   ]
  }
 ],
 "metadata": {},
 "nbformat": 4,
 "nbformat_minor": 5
}
